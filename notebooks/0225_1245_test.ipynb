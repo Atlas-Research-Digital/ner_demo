{
 "cells": [
  {
   "cell_type": "code",
   "execution_count": 14,
   "metadata": {},
   "outputs": [],
   "source": [
    "from model_utils import *\n",
    "import spacy\n",
    "from spacy import tokenizer\n",
    "from spacy import displacy\n",
    "\n",
    "nlp = spacy.load(\"en_core_web_sm\")\n",
    "\n",
    "import pandas as pd\n",
    "\n",
    "import warnings\n",
    "warnings.filterwarnings('ignore')"
   ]
  },
  {
   "cell_type": "code",
   "execution_count": 5,
   "metadata": {
    "scrolled": true
   },
   "outputs": [
    {
     "name": "stderr",
     "output_type": "stream",
     "text": [
      "404 Client Error: Not Found for url: https://huggingface.co/emilyalsentzer/Bio_ClinicalBERT/resolve/main/tf_model.h5\n"
     ]
    },
    {
     "name": "stdout",
     "output_type": "stream",
     "text": [
      "Model Loaded from disk\n"
     ]
    }
   ],
   "source": [
    "ner_model, preproc = load_model()"
   ]
  },
  {
   "cell_type": "code",
   "execution_count": 7,
   "metadata": {},
   "outputs": [],
   "source": [
    "user_input = \"Electrocardiogram findings reveal the patient suffered a myocardial infarction which was treated with ACE inhibitors\""
   ]
  },
  {
   "cell_type": "code",
   "execution_count": 8,
   "metadata": {},
   "outputs": [],
   "source": [
    "def get_predictions_test(loaded_model, features, text):\n",
    "    predictor = ktrain.get_predictor(loaded_model, features)\n",
    "    return predictor.predict(text, return_proba=True)"
   ]
  },
  {
   "cell_type": "code",
   "execution_count": 9,
   "metadata": {},
   "outputs": [
    {
     "data": {
      "text/plain": [
       "[('electrocardiogram', 'O', 0.9999893),\n",
       " ('findings', 'O', 0.99999154),\n",
       " ('reveal', 'O', 0.99999666),\n",
       " ('the', 'O', 0.99987257),\n",
       " ('patient', 'O', 0.9996741),\n",
       " ('suffered', 'O', 0.99993825),\n",
       " ('a', 'problem', 0.9996556),\n",
       " ('myocardial', 'problem', 0.9999378),\n",
       " ('infarction', 'problem', 0.99981374),\n",
       " ('which', 'O', 0.99998724),\n",
       " ('was', 'O', 0.99999654),\n",
       " ('treated', 'O', 0.999995),\n",
       " ('with', 'O', 0.99999714),\n",
       " ('ace', 'O', 0.99998856),\n",
       " ('inhibitors', 'O', 0.9999676)]"
      ]
     },
     "execution_count": 9,
     "metadata": {},
     "output_type": "execute_result"
    }
   ],
   "source": [
    "get_predictions_test(ner_model, preproc, user_input)"
   ]
  },
  {
   "cell_type": "code",
   "execution_count": 11,
   "metadata": {},
   "outputs": [
    {
     "data": {
      "text/html": [
       "<div>\n",
       "<style scoped>\n",
       "    .dataframe tbody tr th:only-of-type {\n",
       "        vertical-align: middle;\n",
       "    }\n",
       "\n",
       "    .dataframe tbody tr th {\n",
       "        vertical-align: top;\n",
       "    }\n",
       "\n",
       "    .dataframe thead th {\n",
       "        text-align: right;\n",
       "    }\n",
       "</style>\n",
       "<table border=\"1\" class=\"dataframe\">\n",
       "  <thead>\n",
       "    <tr style=\"text-align: right;\">\n",
       "      <th></th>\n",
       "      <th>token</th>\n",
       "      <th>label</th>\n",
       "      <th>prob</th>\n",
       "    </tr>\n",
       "  </thead>\n",
       "  <tbody>\n",
       "    <tr>\n",
       "      <th>0</th>\n",
       "      <td>electrocardiogram</td>\n",
       "      <td>O</td>\n",
       "      <td>0.999989</td>\n",
       "    </tr>\n",
       "    <tr>\n",
       "      <th>1</th>\n",
       "      <td>findings</td>\n",
       "      <td>O</td>\n",
       "      <td>0.999992</td>\n",
       "    </tr>\n",
       "    <tr>\n",
       "      <th>2</th>\n",
       "      <td>reveal</td>\n",
       "      <td>O</td>\n",
       "      <td>0.999997</td>\n",
       "    </tr>\n",
       "    <tr>\n",
       "      <th>3</th>\n",
       "      <td>the</td>\n",
       "      <td>O</td>\n",
       "      <td>0.999873</td>\n",
       "    </tr>\n",
       "    <tr>\n",
       "      <th>4</th>\n",
       "      <td>patient</td>\n",
       "      <td>O</td>\n",
       "      <td>0.999674</td>\n",
       "    </tr>\n",
       "    <tr>\n",
       "      <th>5</th>\n",
       "      <td>suffered</td>\n",
       "      <td>O</td>\n",
       "      <td>0.999938</td>\n",
       "    </tr>\n",
       "    <tr>\n",
       "      <th>6</th>\n",
       "      <td>a</td>\n",
       "      <td>problem</td>\n",
       "      <td>0.999656</td>\n",
       "    </tr>\n",
       "    <tr>\n",
       "      <th>7</th>\n",
       "      <td>myocardial</td>\n",
       "      <td>problem</td>\n",
       "      <td>0.999938</td>\n",
       "    </tr>\n",
       "    <tr>\n",
       "      <th>8</th>\n",
       "      <td>infarction</td>\n",
       "      <td>problem</td>\n",
       "      <td>0.999814</td>\n",
       "    </tr>\n",
       "    <tr>\n",
       "      <th>9</th>\n",
       "      <td>which</td>\n",
       "      <td>O</td>\n",
       "      <td>0.999987</td>\n",
       "    </tr>\n",
       "    <tr>\n",
       "      <th>10</th>\n",
       "      <td>was</td>\n",
       "      <td>O</td>\n",
       "      <td>0.999997</td>\n",
       "    </tr>\n",
       "    <tr>\n",
       "      <th>11</th>\n",
       "      <td>treated</td>\n",
       "      <td>O</td>\n",
       "      <td>0.999995</td>\n",
       "    </tr>\n",
       "    <tr>\n",
       "      <th>12</th>\n",
       "      <td>with</td>\n",
       "      <td>O</td>\n",
       "      <td>0.999997</td>\n",
       "    </tr>\n",
       "    <tr>\n",
       "      <th>13</th>\n",
       "      <td>ace</td>\n",
       "      <td>O</td>\n",
       "      <td>0.999989</td>\n",
       "    </tr>\n",
       "    <tr>\n",
       "      <th>14</th>\n",
       "      <td>inhibitors</td>\n",
       "      <td>O</td>\n",
       "      <td>0.999968</td>\n",
       "    </tr>\n",
       "  </tbody>\n",
       "</table>\n",
       "</div>"
      ],
      "text/plain": [
       "                token    label      prob\n",
       "0   electrocardiogram        O  0.999989\n",
       "1            findings        O  0.999992\n",
       "2              reveal        O  0.999997\n",
       "3                 the        O  0.999873\n",
       "4             patient        O  0.999674\n",
       "5            suffered        O  0.999938\n",
       "6                   a  problem  0.999656\n",
       "7          myocardial  problem  0.999938\n",
       "8          infarction  problem  0.999814\n",
       "9               which        O  0.999987\n",
       "10                was        O  0.999997\n",
       "11            treated        O  0.999995\n",
       "12               with        O  0.999997\n",
       "13                ace        O  0.999989\n",
       "14         inhibitors        O  0.999968"
      ]
     },
     "execution_count": 11,
     "metadata": {},
     "output_type": "execute_result"
    }
   ],
   "source": [
    "df = pd.DataFrame(get_predictions_test(ner_model, preproc, user_input))\n",
    "df.columns = [\"token\", \"label\", \"prob\"]\n",
    "df"
   ]
  },
  {
   "cell_type": "code",
   "execution_count": 30,
   "metadata": {},
   "outputs": [
    {
     "data": {
      "text/plain": [
       "label\n",
       "O          [electrocardiogram, findings, reveal, the, pat...\n",
       "problem                          [a, myocardial, infarction]\n",
       "Name: token, dtype: object"
      ]
     },
     "execution_count": 30,
     "metadata": {},
     "output_type": "execute_result"
    }
   ],
   "source": [
    "df.groupby('label')[\"token\"].apply(list)"
   ]
  },
  {
   "cell_type": "code",
   "execution_count": 48,
   "metadata": {},
   "outputs": [
    {
     "data": {
      "text/html": [
       "<div class=\"entities\" style=\"line-height: 2.5; direction: ltr\">\n",
       "<mark class=\"entity\" style=\"background: linear-gradient(90deg, #ffafbd, #ffc3a0); padding: 0.45em 0.6em; margin: 0 0.25em; line-height: 1; border-radius: 0.35em; box-decoration-break: clone; -webkit-box-decoration-break: clone\">\n",
       "    Electrocardiogram\n",
       "    <span style=\"font-size: 0.8em; font-weight: bold; line-height: 1; border-radius: 0.35em; text-transform: uppercase; vertical-align: middle; margin-left: 0.5rem\">TEST</span>\n",
       "</mark>\n",
       " findings reveal the patient suffered\n",
       "<mark class=\"entity\" style=\"background: linear-gradient(90deg, #aa9cfc, #fc9ce7); padding: 0.45em 0.6em; margin: 0 0.25em; line-height: 1; border-radius: 0.35em; box-decoration-break: clone; -webkit-box-decoration-break: clone\">\n",
       "     a myocardial infarction\n",
       "    <span style=\"font-size: 0.8em; font-weight: bold; line-height: 1; border-radius: 0.35em; text-transform: uppercase; vertical-align: middle; margin-left: 0.5rem\">PROBLEM</span>\n",
       "</mark>\n",
       " which was treated with\n",
       "<mark class=\"entity\" style=\"background: linear-gradient(90deg, #ffafbd, #ffc3a0); padding: 0.45em 0.6em; margin: 0 0.25em; line-height: 1; border-radius: 0.35em; box-decoration-break: clone; -webkit-box-decoration-break: clone\">\n",
       "     ACE inhibitors\n",
       "    <span style=\"font-size: 0.8em; font-weight: bold; line-height: 1; border-radius: 0.35em; text-transform: uppercase; vertical-align: middle; margin-left: 0.5rem\">TEST</span>\n",
       "</mark>\n",
       ".</div>"
      ],
      "text/plain": [
       "<IPython.core.display.HTML object>"
      ]
     },
     "metadata": {},
     "output_type": "display_data"
    }
   ],
   "source": [
    "colors = {\n",
    "    \"PROBLEM\": \"linear-gradient(90deg, #aa9cfc, #fc9ce7)\",\n",
    "    \"TEST\": \"linear-gradient(90deg, #ffafbd, #ffc3a0)\",\n",
    "    \"TREATMENT\": \"linear-gradient(90deg, #02aab0, #00cdac)\"\n",
    "}\n",
    "options = {\"ents\": [\"PROBLEM\", \"TEST\", \"TREATMENT\"], \"colors\": colors}\n",
    "\n",
    "ex = {\n",
    "    \"text\": \"Electrocardiogram findings reveal the patient suffered a myocardial infarction which was treated with ACE inhibitors.\",\n",
    "    \"ents\": [{\"start\": 0, \"end\": 17, \"label\": \"TEST\"}, {\"start\": 54, \"end\": 78, \"label\": \"PROBLEM\"}, {\"start\":101, \"end\":116, \"label\":\"TEST\"}]\n",
    "}\n",
    "html = displacy.render(ex, style=\"ent\", manual=True, options=options)"
   ]
  },
  {
   "cell_type": "code",
   "execution_count": 35,
   "metadata": {},
   "outputs": [
    {
     "data": {
      "text/plain": [
       "17"
      ]
     },
     "execution_count": 35,
     "metadata": {},
     "output_type": "execute_result"
    }
   ],
   "source": [
    "len(\"Electrocardiogram\")"
   ]
  },
  {
   "cell_type": "code",
   "execution_count": 43,
   "metadata": {},
   "outputs": [
    {
     "data": {
      "text/plain": [
       "0      -1\n",
       "1      17\n",
       "2      26\n",
       "3      33\n",
       "4      37\n",
       "5      45\n",
       "6      54\n",
       "7      56\n",
       "8      67\n",
       "9      78\n",
       "10     84\n",
       "11     88\n",
       "12     96\n",
       "13    101\n",
       "14    105\n",
       "Name: token, dtype: int64"
      ]
     },
     "execution_count": 43,
     "metadata": {},
     "output_type": "execute_result"
    }
   ],
   "source": [
    "df.token.apply(lambda x: sample_doc.find(\" \"+x))"
   ]
  },
  {
   "cell_type": "code",
   "execution_count": 31,
   "metadata": {},
   "outputs": [
    {
     "data": {
      "text/plain": [
       "'here is some text about a she had a lot of issues with a hernia'"
      ]
     },
     "execution_count": 31,
     "metadata": {},
     "output_type": "execute_result"
    }
   ],
   "source": [
    "sample_doc = \" \".join(user_input.strip().split(\"\\n\"))"
   ]
  },
  {
   "cell_type": "code",
   "execution_count": null,
   "metadata": {},
   "outputs": [],
   "source": [
    "## displacy format:\n",
    "\n",
    "# {\n",
    "#     \"text\": \"But Google is starting from behind.\",\n",
    "#     \"ents\": [{\"start\": 4, \"end\": 10, \"label\": \"ORG\"}],\n",
    "#     \"title\": None\n",
    "# }"
   ]
  },
  {
   "cell_type": "code",
   "execution_count": 26,
   "metadata": {},
   "outputs": [
    {
     "ename": "TypeError",
     "evalue": "render() got an unexpected keyword argument 'render'",
     "output_type": "error",
     "traceback": [
      "\u001b[0;31m---------------------------------------------------------------------------\u001b[0m",
      "\u001b[0;31mTypeError\u001b[0m                                 Traceback (most recent call last)",
      "\u001b[0;32m<ipython-input-26-8c332654b1e6>\u001b[0m in \u001b[0;36m<module>\u001b[0;34m\u001b[0m\n\u001b[0;32m----> 1\u001b[0;31m \u001b[0mdisplacy\u001b[0m\u001b[0;34m.\u001b[0m\u001b[0mrender\u001b[0m\u001b[0;34m(\u001b[0m\u001b[0mnlp\u001b[0m\u001b[0;34m(\u001b[0m\u001b[0muser_input\u001b[0m\u001b[0;34m)\u001b[0m\u001b[0;34m,\u001b[0m \u001b[0mstyle\u001b[0m\u001b[0;34m=\u001b[0m\u001b[0;34m\"ent\"\u001b[0m\u001b[0;34m,\u001b[0m \u001b[0mjupyter\u001b[0m\u001b[0;34m=\u001b[0m\u001b[0;32mTrue\u001b[0m\u001b[0;34m,\u001b[0m \u001b[0mrender\u001b[0m\u001b[0;34m=\u001b[0m\u001b[0;32mTrue\u001b[0m\u001b[0;34m)\u001b[0m\u001b[0;34m\u001b[0m\u001b[0;34m\u001b[0m\u001b[0m\n\u001b[0m",
      "\u001b[0;31mTypeError\u001b[0m: render() got an unexpected keyword argument 'render'"
     ]
    }
   ],
   "source": [
    "displacy.render(nlp(user_input), style=\"ent\", jupyter=True, manual=True)"
   ]
  }
 ],
 "metadata": {
  "kernelspec": {
   "display_name": "Python 3",
   "language": "python",
   "name": "python3"
  },
  "language_info": {
   "codemirror_mode": {
    "name": "ipython",
    "version": 3
   },
   "file_extension": ".py",
   "mimetype": "text/x-python",
   "name": "python",
   "nbconvert_exporter": "python",
   "pygments_lexer": "ipython3",
   "version": "3.7.4"
  }
 },
 "nbformat": 4,
 "nbformat_minor": 2
}
